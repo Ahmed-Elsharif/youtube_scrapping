{
 "cells": [
  {
   "cell_type": "code",
   "execution_count": 120,
   "metadata": {},
   "outputs": [],
   "source": [
    "#import libraries\n",
    "from selenium import webdriver\n",
    "import csv\n",
    "from selenium.webdriver.common.by import By\n",
    "from selenium.webdriver.common.keys import Keys\n",
    "from selenium.webdriver.support import expected_conditions as EC\n",
    "from selenium.webdriver.support.wait import WebDriverWait\n",
    "from webdriver_manager.chrome import ChromeDriverManager\n",
    "from selenium.webdriver.chrome.service import Service as ChromeService\n",
    "import time\n",
    "import os\n",
    "import requests"
   ]
  },
  {
   "cell_type": "code",
   "execution_count": 121,
   "metadata": {},
   "outputs": [],
   "source": [
    "#open the chrome webdriver\n",
    "driver = webdriver.Chrome(service=ChromeService(ChromeDriverManager().install())) \n",
    "driver.implicitly_wait(7)"
   ]
  },
  {
   "cell_type": "code",
   "execution_count": 122,
   "metadata": {},
   "outputs": [],
   "source": [
    "#target the site \n",
    "driver.get(\"https://www.youtube.com/\")"
   ]
  },
  {
   "cell_type": "code",
   "execution_count": 123,
   "metadata": {},
   "outputs": [],
   "source": [
    "#enter search word \n",
    "search_word= WebDriverWait(driver,5).until(EC.element_to_be_clickable((By.CSS_SELECTOR,'input[name=\"search_query\"]')))\n",
    "search_word.clear()\n",
    "search_word.send_keys(\"samsung s23 ultra\")\n",
    "time.sleep(5)\n",
    "#click the button to search\n",
    "search_button= WebDriverWait(driver,3).until(EC.element_to_be_clickable((By.CSS_SELECTOR,'button[id=\"search-icon-legacy\"]'))).click()\n"
   ]
  },
  {
   "cell_type": "code",
   "execution_count": 124,
   "metadata": {},
   "outputs": [],
   "source": [
    "for _ in range(50):\n",
    "    # Scroll down by 1000 pixels each time\n",
    "    driver.execute_script(\"window.scrollBy(0, 1000);\")\n",
    "    time.sleep(5)"
   ]
  },
  {
   "cell_type": "code",
   "execution_count": 125,
   "metadata": {},
   "outputs": [],
   "source": [
    "#target the title text \n",
    "title=driver.find_elements(By.XPATH,'//*[@id=\"video-title\"]/yt-formatted-string')"
   ]
  },
  {
   "cell_type": "code",
   "execution_count": 126,
   "metadata": {},
   "outputs": [],
   "source": [
    "#target the channel text \n",
    "channel_name=driver.find_elements(By.XPATH,'//*[@id=\"channel-name\" and contains (@class,\"long-byline style-scope ytd-video-renderer\")] ')"
   ]
  },
  {
   "cell_type": "code",
   "execution_count": 127,
   "metadata": {},
   "outputs": [],
   "source": [
    "time_of_publish=driver.find_elements(By.XPATH,'//ytd-video-renderer/div[1]/div/div[1]/ytd-video-meta-block/div[1]/div[2]/span[2]')"
   ]
  },
  {
   "cell_type": "code",
   "execution_count": 128,
   "metadata": {},
   "outputs": [],
   "source": [
    "views_number=driver.find_elements(By.XPATH,'//ytd-video-renderer/div[1]/div/div[1]/ytd-video-meta-block/div[1]/div[2]/span[1]')"
   ]
  },
  {
   "cell_type": "code",
   "execution_count": 129,
   "metadata": {},
   "outputs": [],
   "source": [
    "discreption=driver.find_elements(By.XPATH,'//*[@id=\"dismissible\"]/div[1]/div[3]')"
   ]
  },
  {
   "cell_type": "code",
   "execution_count": 130,
   "metadata": {},
   "outputs": [],
   "source": [
    "video_link=driver.find_elements(By.XPATH,'//a[@id=\"video-title\"]')"
   ]
  },
  {
   "cell_type": "code",
   "execution_count": 131,
   "metadata": {},
   "outputs": [
    {
     "name": "stdout",
     "output_type": "stream",
     "text": [
      "Abdelrahman Hwary عبدالرحمن هواري\n",
      "آخـر يوم مع الايفون 15 برو ماكس 🔥🤔 ليه رجعت للـ S23 Ultra من سامسونج !!\n",
      "2 months ago\n",
      "158K views\n",
      "هل الايفون 15 برو ماكس الجديد افضل ام ساموسنج S23 الترا!! . . iPhone 15 Pro Max Vs Samsung S23 Ultra ...\n",
      "https://www.youtube.com/watch?v=xZmba3m4xHI&pp=ygURc2Ftc3VuZyBzMjMgdWx0cmE%3D\n"
     ]
    }
   ],
   "source": [
    "print(channel_name[7].text)\n",
    "print(title[7].text)\n",
    "print(time_of_publish[7].text)\n",
    "print(views_number[7].text)\n",
    "print(discreption[7].text)\n",
    "print(video_link[7].get_attribute(\"href\"))"
   ]
  },
  {
   "cell_type": "code",
   "execution_count": 132,
   "metadata": {},
   "outputs": [
    {
     "name": "stdout",
     "output_type": "stream",
     "text": [
      "BeboExperience تجربة بيبو\n",
      "Samsung A54 || أسبوع وضح كل شئ\n",
      "8 months ago\n",
      "308K views\n",
      "Samsung a54 سامسونج a54 اشترك فى جروب التليجرام من الرابط التالى http://bit.ly/3RC8xbJ اضغط هنا استخدم أكواد الخصم دى وانت ...\n",
      "https://www.youtube.com/watch?v=524nkaoTQok&pp=ygURc2Ftc3VuZyBzMjMgdWx0cmE%3D\n"
     ]
    }
   ],
   "source": [
    "print(channel_name[20].text)\n",
    "print(title[20].text)\n",
    "print(time_of_publish[20].text)\n",
    "print(views_number[20].text)\n",
    "print(discreption[20].text)\n",
    "print(video_link[20].get_attribute(\"href\"))"
   ]
  },
  {
   "cell_type": "code",
   "execution_count": 133,
   "metadata": {},
   "outputs": [
    {
     "name": "stdout",
     "output_type": "stream",
     "text": [
      "179\n",
      "179\n",
      "179\n",
      "179\n",
      "179\n",
      "179\n"
     ]
    }
   ],
   "source": [
    "#test the lengeth of all attribute\n",
    "print(len(channel_name))\n",
    "print(len(title))\n",
    "print(len(time_of_publish))\n",
    "print(len(views_number))\n",
    "print(len(discreption))\n",
    "print(len(video_link))\n"
   ]
  },
  {
   "cell_type": "code",
   "execution_count": 139,
   "metadata": {},
   "outputs": [],
   "source": [
    "#create the csv file and put the first raw\n",
    "p=r'E:\\Epsilon\\code2\\youtube.csv'\n",
    "\n",
    "with open(p, 'w',encoding='utf-8',newline='') as csvfile:\n",
    "                csvwriter = csv.writer(csvfile, delimiter=',')\n",
    "                csvwriter.writerow(['channel_name','title','time_of_publish','views_number','discreption','video_link'])"
   ]
  },
  {
   "cell_type": "code",
   "execution_count": 140,
   "metadata": {},
   "outputs": [],
   "source": [
    "#put all the datat in the csv file\n",
    "for i in range(len(title)):\n",
    "    cha=channel_name[i].text\n",
    "    til=title[i].text\n",
    "    tim=time_of_publish[i].text\n",
    "    vie=views_number[i].text\n",
    "    dis=discreption[i].text\n",
    "    vid=video_link[i].get_attribute(\"href\")\n",
    "    with open(r'E:\\Epsilon\\code2\\youtube.csv','a',encoding='utf-8',newline='') as csvfile:       \n",
    "                csvwriter = csv.writer(csvfile, delimiter=',')\n",
    "                csvwriter.writerow([cha,til,tim,vie,dis,vid])"
   ]
  },
  {
   "cell_type": "code",
   "execution_count": 136,
   "metadata": {},
   "outputs": [],
   "source": [
    "# Close the browser window\n",
    "driver.quit()"
   ]
  }
 ],
 "metadata": {
  "kernelspec": {
   "display_name": "base",
   "language": "python",
   "name": "python3"
  },
  "language_info": {
   "codemirror_mode": {
    "name": "ipython",
    "version": 3
   },
   "file_extension": ".py",
   "mimetype": "text/x-python",
   "name": "python",
   "nbconvert_exporter": "python",
   "pygments_lexer": "ipython3",
   "version": "3.10.9"
  }
 },
 "nbformat": 4,
 "nbformat_minor": 2
}
